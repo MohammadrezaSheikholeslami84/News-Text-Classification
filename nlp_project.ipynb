{
 "cells": [
  {
   "cell_type": "markdown",
   "metadata": {
    "id": "CQkf0HXvu9OH"
   },
   "source": [
    "##   Importing Libraries"
   ]
  },
  {
   "cell_type": "code",
   "execution_count": 1,
   "metadata": {
    "id": "kzmCrZomu9OM"
   },
   "outputs": [],
   "source": [
    "import numpy as np\n",
    "import pandas as pd\n",
    "import matplotlib.pyplot as plt\n",
    "import sklearn"
   ]
  },
  {
   "cell_type": "markdown",
   "metadata": {
    "id": "LnADYUVmu9OP"
   },
   "source": [
    "## Reading Data"
   ]
  },
  {
   "cell_type": "code",
   "execution_count": 2,
   "metadata": {
    "id": "LoJS8n4Pu9OP"
   },
   "outputs": [],
   "source": [
    "train = pd.read_csv(\"train.csv\")\n",
    "val = pd.read_csv(\"val.csv\")\n",
    "test = pd.read_csv(\"test.csv\")\n",
    "\n",
    "x_train = train[\"content\"]\n",
    "y_train = train[\"label\"]\n",
    "\n",
    "x_val = val[\"content\"]\n",
    "y_val = val[\"label\"]\n",
    "\n",
    "x_test = test[\"content\"]\n",
    "y_test = test[\"label\"]"
   ]
  },
  {
   "cell_type": "code",
   "execution_count": 11,
   "metadata": {},
   "outputs": [
    {
     "data": {
      "text/html": [
       "<div>\n",
       "<style scoped>\n",
       "    .dataframe tbody tr th:only-of-type {\n",
       "        vertical-align: middle;\n",
       "    }\n",
       "\n",
       "    .dataframe tbody tr th {\n",
       "        vertical-align: top;\n",
       "    }\n",
       "\n",
       "    .dataframe thead th {\n",
       "        text-align: right;\n",
       "    }\n",
       "</style>\n",
       "<table border=\"1\" class=\"dataframe\">\n",
       "  <thead>\n",
       "    <tr style=\"text-align: right;\">\n",
       "      <th></th>\n",
       "      <th>content</th>\n",
       "      <th>label</th>\n",
       "    </tr>\n",
       "  </thead>\n",
       "  <tbody>\n",
       "    <tr>\n",
       "      <th>0</th>\n",
       "      <td>به گزارش خبرنگار حوزه بهداشت و درمان گروه علمی...</td>\n",
       "      <td>7</td>\n",
       "    </tr>\n",
       "    <tr>\n",
       "      <th>1</th>\n",
       "      <td>به گزارش خبرنگار فوتبال و فوتسال گروه ورزشی با...</td>\n",
       "      <td>6</td>\n",
       "    </tr>\n",
       "    <tr>\n",
       "      <th>2</th>\n",
       "      <td>بهروز اکرمی، در گفتگو با خبرنگار اجتماعی باشگا...</td>\n",
       "      <td>0</td>\n",
       "    </tr>\n",
       "    <tr>\n",
       "      <th>3</th>\n",
       "      <td>به گزارش خبرنگار حوزه شهری گروه اجتماعی باشگاه...</td>\n",
       "      <td>0</td>\n",
       "    </tr>\n",
       "    <tr>\n",
       "      <th>4</th>\n",
       "      <td>به گزارش باشگاه خبرنگاران و به نقل از روابط عم...</td>\n",
       "      <td>5</td>\n",
       "    </tr>\n",
       "  </tbody>\n",
       "</table>\n",
       "</div>"
      ],
      "text/plain": [
       "                                             content  label\n",
       "0  به گزارش خبرنگار حوزه بهداشت و درمان گروه علمی...      7\n",
       "1  به گزارش خبرنگار فوتبال و فوتسال گروه ورزشی با...      6\n",
       "2  بهروز اکرمی، در گفتگو با خبرنگار اجتماعی باشگا...      0\n",
       "3  به گزارش خبرنگار حوزه شهری گروه اجتماعی باشگاه...      0\n",
       "4  به گزارش باشگاه خبرنگاران و به نقل از روابط عم...      5"
      ]
     },
     "execution_count": 11,
     "metadata": {},
     "output_type": "execute_result"
    }
   ],
   "source": [
    "train.head()"
   ]
  },
  {
   "cell_type": "code",
   "execution_count": 3,
   "metadata": {
    "colab": {
     "base_uri": "https://localhost:8080/",
     "height": 384
    },
    "id": "IR_iy-g6u9OV",
    "outputId": "d6430c9f-c6ef-47cc-d8a6-0e15ccf279d7"
   },
   "outputs": [],
   "source": [
    "from hazm import Normalizer, WordTokenizer, stopwords_list, Lemmatizer\n",
    "import regex as re\n",
    "import string\n",
    "\n",
    "normalizer1 = Normalizer()\n",
    "\n",
    "# To-Do\n",
    "def preprocessing(input):\n",
    "    punctoation = [\".\", \",\", \"(\", \"[\", \"/\", \"{\", \"|\", \"@\", \"?\", \",\", \"!\", \".\", \";\", \"#\"]\n",
    "    output = input.translate(str.maketrans(\"\", \"\", string.punctuation))\n",
    "    output = \" \".join(output.split())\n",
    "    output = re.sub(r\"\\d+\", \"\", output)\n",
    "    output = output.translate({ord(x): \"\" for x in punctoation})\n",
    "    output = normalizer1.normalize(output)\n",
    "    return output"
   ]
  },
  {
   "cell_type": "code",
   "execution_count": 4,
   "metadata": {
    "id": "G28db7zsu9OW"
   },
   "outputs": [],
   "source": [
    "from hazm import *\n",
    "\n",
    "stopwords = stopwords_list()\n",
    "word_tokenizer = WordTokenizer()\n",
    "lemmatizer = Lemmatizer()\n",
    "# persian_stopwords = stopwords_output(\"Persian\", \"nar\")\n",
    "\n",
    "\n",
    "def tokenizer(text):\n",
    "    filtered = []\n",
    "    token_first = word_tokenizer.tokenize(text)\n",
    "    for word in token_first:\n",
    "        if word not in stopwords:\n",
    "            filtered.append(lemmatizer.lemmatize(word))\n",
    "    return filtered"
   ]
  },
  {
   "cell_type": "markdown",
   "metadata": {
    "id": "mFUvviiNJ052"
   },
   "source": [
    "### TF IDF\n"
   ]
  },
  {
   "cell_type": "code",
   "execution_count": 6,
   "metadata": {
    "colab": {
     "base_uri": "https://localhost:8080/"
    },
    "id": "eX2CLkgBu9OW",
    "outputId": "f9dbe7be-7a7f-4ea6-ef6b-67cd7f57f328"
   },
   "outputs": [],
   "source": [
    "from sklearn.feature_extraction.text import TfidfVectorizer\n",
    "\n",
    "#tfidf_train = TfidfVectorizer(tokenizer=tokenizer, preprocessor=preprocessing)\n",
    "\n",
    "tfidf_train = TfidfVectorizer()\n",
    "\n",
    "\n",
    "x_train_tfidf = tfidf_train.fit_transform(x_train)\n",
    "x_val_tfidf = tfidf_train.transform(x_val)\n",
    "x_test_tfidf = tfidf_train.transform(x_test)"
   ]
  },
  {
   "cell_type": "markdown",
   "metadata": {
    "id": "Vw36tXoZJ6sl"
   },
   "source": [
    "### BOW"
   ]
  },
  {
   "cell_type": "code",
   "execution_count": 7,
   "metadata": {
    "id": "rMjZtoeWJzYm"
   },
   "outputs": [],
   "source": [
    "from sklearn.feature_extraction.text import CountVectorizer\n",
    "\n",
    "bow_train = CountVectorizer()\n",
    "\n",
    "x_train_bow = bow_train.fit_transform(x_train)\n",
    "x_val_bow = bow_train.transform(x_val)\n",
    "x_test_bow = bow_train.transform(x_test)"
   ]
  },
  {
   "cell_type": "markdown",
   "metadata": {
    "id": "wZu2_vbku9OX"
   },
   "source": [
    "## Random Forest"
   ]
  },
  {
   "cell_type": "markdown",
   "metadata": {
    "id": "763U8x9oKdEt"
   },
   "source": [
    "### TF IDF\n"
   ]
  },
  {
   "cell_type": "code",
   "execution_count": 8,
   "metadata": {
    "id": "Y3wCcJ9Hu9OY"
   },
   "outputs": [],
   "source": [
    "from sklearn.ensemble import RandomForestClassifier\n",
    "\n",
    "rf_tfidf = RandomForestClassifier(random_state=0)\n",
    "rf_tfidf.fit(x_train_tfidf, y_train)\n",
    "\n",
    "y_val_predict = rf_tfidf.predict(x_val_tfidf)\n",
    "y_test_predict = rf_tfidf.predict(x_test_tfidf)"
   ]
  },
  {
   "cell_type": "code",
   "execution_count": 9,
   "metadata": {
    "colab": {
     "base_uri": "https://localhost:8080/"
    },
    "id": "GrbETqyTu9OZ",
    "outputId": "2783b464-071e-4575-ae04-6af277a70cb2"
   },
   "outputs": [
    {
     "name": "stdout",
     "output_type": "stream",
     "text": [
      "Score Validation :  0.9\n",
      "Score Test :  0.91\n"
     ]
    }
   ],
   "source": [
    "from sklearn.metrics import f1_score\n",
    "\n",
    "print(\"Score Validation : \",np.round(f1_score(y_val_predict, y_val, average=\"weighted\"),2))\n",
    "print(\"Score Test : \",np.round(f1_score(y_test_predict, y_test, average=\"weighted\"),2))\n"
   ]
  },
  {
   "cell_type": "code",
   "execution_count": 10,
   "metadata": {
    "colab": {
     "base_uri": "https://localhost:8080/"
    },
    "id": "ChjCiPRiu9Oa",
    "outputId": "3d20b448-6eee-4218-e878-38f776c4bce0"
   },
   "outputs": [
    {
     "name": "stdout",
     "output_type": "stream",
     "text": [
      "              precision    recall  f1-score   support\n",
      "\n",
      "           0       0.87      0.91      0.89       187\n",
      "           1       0.75      0.94      0.83       113\n",
      "           2       0.95      0.93      0.94       181\n",
      "           3       0.87      0.80      0.83       220\n",
      "           4       0.95      0.90      0.92       230\n",
      "           5       0.93      0.94      0.93       228\n",
      "           6       1.00      0.97      0.98       128\n",
      "           7       0.89      0.87      0.88       193\n",
      "\n",
      "    accuracy                           0.90      1480\n",
      "   macro avg       0.90      0.91      0.90      1480\n",
      "weighted avg       0.91      0.90      0.90      1480\n",
      "\n"
     ]
    }
   ],
   "source": [
    "from sklearn.metrics import classification_report\n",
    "print(classification_report(y_val_predict, y_val))"
   ]
  },
  {
   "cell_type": "markdown",
   "metadata": {
    "id": "mScFhfV1KcNd"
   },
   "source": [
    "### BOW\n"
   ]
  },
  {
   "cell_type": "code",
   "execution_count": 11,
   "metadata": {
    "id": "e6tvOPeOKP-I"
   },
   "outputs": [],
   "source": [
    "rf_bow = RandomForestClassifier(random_state=0)\n",
    "rf_bow.fit(x_train_bow, y_train)\n",
    "y_val_predict_bow = rf_bow.predict(x_val_bow)\n",
    "y_test_predict_bow  = rf_bow.predict(x_test_bow)"
   ]
  },
  {
   "cell_type": "code",
   "execution_count": 12,
   "metadata": {
    "colab": {
     "base_uri": "https://localhost:8080/"
    },
    "id": "fW806tq8KP-J",
    "outputId": "7dc77bb2-6e36-407f-c2de-2b270a211905"
   },
   "outputs": [
    {
     "name": "stdout",
     "output_type": "stream",
     "text": [
      "Score Validation :  0.91\n",
      "Score Test :  0.91\n"
     ]
    }
   ],
   "source": [
    "from sklearn.metrics import f1_score\n",
    "\n",
    "print(\"Score Validation : \",np.round(f1_score(y_val_predict_bow, y_val, average=\"weighted\"),2))\n",
    "print(\"Score Test : \",np.round(f1_score(y_test_predict_bow, y_test, average=\"weighted\"),2))\n"
   ]
  },
  {
   "cell_type": "code",
   "execution_count": 13,
   "metadata": {
    "colab": {
     "base_uri": "https://localhost:8080/"
    },
    "id": "4PEtRShoKP-K",
    "outputId": "63c7b887-0e2a-44bc-e2f2-b809b26f26ce"
   },
   "outputs": [
    {
     "name": "stdout",
     "output_type": "stream",
     "text": [
      "              precision    recall  f1-score   support\n",
      "\n",
      "           0       0.83      0.92      0.87       178\n",
      "           1       0.80      0.95      0.87       119\n",
      "           2       0.95      0.93      0.94       181\n",
      "           3       0.87      0.81      0.84       219\n",
      "           4       0.95      0.91      0.93       227\n",
      "           5       0.95      0.94      0.94       233\n",
      "           6       1.00      0.98      0.99       127\n",
      "           7       0.91      0.87      0.89       196\n",
      "\n",
      "    accuracy                           0.91      1480\n",
      "   macro avg       0.91      0.91      0.91      1480\n",
      "weighted avg       0.91      0.91      0.91      1480\n",
      "\n"
     ]
    }
   ],
   "source": [
    "from sklearn.metrics import classification_report\n",
    "print(classification_report(y_val_predict_bow, y_val))"
   ]
  },
  {
   "cell_type": "markdown",
   "metadata": {
    "id": "FbyoWAyb_gTp"
   },
   "source": [
    "## Decision Tree"
   ]
  },
  {
   "cell_type": "markdown",
   "metadata": {
    "id": "gYmIir2IMw3N"
   },
   "source": [
    "### TF IDF"
   ]
  },
  {
   "cell_type": "code",
   "execution_count": 14,
   "metadata": {
    "id": "4AxIMzGs_mSv"
   },
   "outputs": [],
   "source": [
    "from sklearn.tree import DecisionTreeClassifier\n",
    "dt = DecisionTreeClassifier(random_state=0)\n",
    "\n",
    "dt.fit(x_train_tfidf, y_train)\n",
    "\n",
    "y_val_predict_dt = dt.predict(x_val_tfidf)\n",
    "y_test_predict_dt = dt.predict(x_test_tfidf)\n"
   ]
  },
  {
   "cell_type": "code",
   "execution_count": 15,
   "metadata": {
    "colab": {
     "base_uri": "https://localhost:8080/"
    },
    "id": "pXFDnejrBASY",
    "outputId": "1f55da85-4737-4550-be9c-30ef927ad633"
   },
   "outputs": [
    {
     "name": "stdout",
     "output_type": "stream",
     "text": [
      "Score Validation :  0.83\n",
      "Score Test :  0.84\n"
     ]
    }
   ],
   "source": [
    "from sklearn.metrics import f1_score\n",
    "\n",
    "print(\"Score Validation : \",np.round(f1_score(y_val_predict_dt, y_val, average=\"weighted\"),2))\n",
    "print(\"Score Test : \",np.round(f1_score(y_test_predict_dt, y_test, average=\"weighted\"),2))"
   ]
  },
  {
   "cell_type": "code",
   "execution_count": 16,
   "metadata": {
    "colab": {
     "base_uri": "https://localhost:8080/"
    },
    "id": "Ld-tZR7jBFHy",
    "outputId": "f3ea1061-e7ff-42c4-d36d-27e00566e014"
   },
   "outputs": [
    {
     "name": "stdout",
     "output_type": "stream",
     "text": [
      "              precision    recall  f1-score   support\n",
      "\n",
      "           0       0.81      0.78      0.79       205\n",
      "           1       0.78      0.83      0.80       133\n",
      "           2       0.87      0.85      0.86       183\n",
      "           3       0.76      0.80      0.78       194\n",
      "           4       0.93      0.91      0.92       223\n",
      "           5       0.78      0.82      0.80       219\n",
      "           6       0.89      0.87      0.88       127\n",
      "           7       0.86      0.82      0.84       196\n",
      "\n",
      "    accuracy                           0.83      1480\n",
      "   macro avg       0.83      0.83      0.83      1480\n",
      "weighted avg       0.83      0.83      0.83      1480\n",
      "\n"
     ]
    }
   ],
   "source": [
    "from sklearn.metrics import classification_report\n",
    "\n",
    "print(classification_report(y_val_predict_dt, y_val))"
   ]
  },
  {
   "cell_type": "markdown",
   "metadata": {
    "id": "UM8XP9JXM0CW"
   },
   "source": [
    "### BOW\n"
   ]
  },
  {
   "cell_type": "code",
   "execution_count": 17,
   "metadata": {
    "id": "y0EtRKXiM6Ft"
   },
   "outputs": [],
   "source": [
    "dt_bow = DecisionTreeClassifier(random_state=0)\n",
    "dt_bow.fit(x_train_bow, y_train)\n",
    "y_val_predict_bow_dt = dt_bow.predict(x_val_bow)\n",
    "y_test_predict_bow_dt  = dt_bow.predict(x_test_bow)"
   ]
  },
  {
   "cell_type": "code",
   "execution_count": 18,
   "metadata": {
    "colab": {
     "base_uri": "https://localhost:8080/"
    },
    "id": "DjTIoCb9M6Fv",
    "outputId": "889bcd69-02e9-4566-88a5-cbf104572d96"
   },
   "outputs": [
    {
     "name": "stdout",
     "output_type": "stream",
     "text": [
      "Score Validation :  0.85\n",
      "Score Test :  0.85\n"
     ]
    }
   ],
   "source": [
    "from sklearn.metrics import f1_score\n",
    "\n",
    "print(\"Score Validation : \",np.round(f1_score(y_val_predict_bow_dt, y_val, average=\"weighted\"),2))\n",
    "print(\"Score Test : \",np.round(f1_score(y_test_predict_bow_dt, y_test, average=\"weighted\"),2))\n"
   ]
  },
  {
   "cell_type": "code",
   "execution_count": 19,
   "metadata": {
    "colab": {
     "base_uri": "https://localhost:8080/"
    },
    "id": "nEroS_afM6Fw",
    "outputId": "b7ad6fce-bf61-4ff1-c15f-11a009c8d25f"
   },
   "outputs": [
    {
     "name": "stdout",
     "output_type": "stream",
     "text": [
      "              precision    recall  f1-score   support\n",
      "\n",
      "           0       0.78      0.79      0.79       193\n",
      "           1       0.82      0.82      0.82       141\n",
      "           2       0.90      0.90      0.90       178\n",
      "           3       0.80      0.78      0.79       210\n",
      "           4       0.95      0.92      0.94       226\n",
      "           5       0.80      0.86      0.83       216\n",
      "           6       0.93      0.89      0.91       129\n",
      "           7       0.85      0.85      0.85       187\n",
      "\n",
      "    accuracy                           0.85      1480\n",
      "   macro avg       0.85      0.85      0.85      1480\n",
      "weighted avg       0.85      0.85      0.85      1480\n",
      "\n"
     ]
    }
   ],
   "source": [
    "from sklearn.metrics import classification_report\n",
    "print(classification_report(y_val_predict_bow_dt, y_val))"
   ]
  },
  {
   "cell_type": "markdown",
   "metadata": {
    "id": "5GUO8NyPBLNX"
   },
   "source": [
    "## SVM"
   ]
  },
  {
   "cell_type": "code",
   "execution_count": 20,
   "metadata": {
    "id": "iuWI_Xx6BNSo"
   },
   "outputs": [],
   "source": [
    "from sklearn.svm import SVC\n",
    "\n",
    "svm = SVC()\n",
    "\n",
    "svm.fit(x_train_tfidf, y_train)\n",
    "y_val_predict_svm = svm.predict(x_val_tfidf)\n",
    "y_test_predict_svm = svm.predict(x_test_tfidf)"
   ]
  },
  {
   "cell_type": "code",
   "execution_count": 21,
   "metadata": {
    "colab": {
     "base_uri": "https://localhost:8080/"
    },
    "id": "P_uDENtsIs4e",
    "outputId": "dae39fa5-8416-4411-c0ab-2c386c752291"
   },
   "outputs": [
    {
     "name": "stdout",
     "output_type": "stream",
     "text": [
      "Score Validation :  0.89\n",
      "Score Test :  0.9\n"
     ]
    }
   ],
   "source": [
    "from sklearn.metrics import f1_score\n",
    "\n",
    "print(\"Score Validation : \",np.round(f1_score(y_val_predict_svm, y_val, average=\"weighted\"),2))\n",
    "print(\"Score Test : \",np.round(f1_score(y_test_predict_svm, y_test, average=\"weighted\"),2))"
   ]
  },
  {
   "cell_type": "code",
   "execution_count": 22,
   "metadata": {
    "colab": {
     "base_uri": "https://localhost:8080/"
    },
    "id": "VqyTl0TIIw2X",
    "outputId": "e39a853a-747e-4e2f-a4e6-7c17880ee221"
   },
   "outputs": [
    {
     "name": "stdout",
     "output_type": "stream",
     "text": [
      "              precision    recall  f1-score   support\n",
      "\n",
      "           0       0.85      0.88      0.87       190\n",
      "           1       0.87      0.85      0.86       145\n",
      "           2       0.94      0.92      0.93       181\n",
      "           3       0.83      0.88      0.86       193\n",
      "           4       0.89      0.92      0.90       213\n",
      "           5       0.96      0.92      0.94       239\n",
      "           6       0.98      0.97      0.98       126\n",
      "           7       0.85      0.83      0.84       193\n",
      "\n",
      "    accuracy                           0.89      1480\n",
      "   macro avg       0.90      0.90      0.90      1480\n",
      "weighted avg       0.90      0.89      0.89      1480\n",
      "\n"
     ]
    }
   ],
   "source": [
    "from sklearn.metrics import classification_report\n",
    "\n",
    "print(classification_report(y_val_predict_svm, y_val))"
   ]
  },
  {
   "cell_type": "markdown",
   "metadata": {
    "id": "uHtO3glupAVT"
   },
   "source": [
    "## SGD Classifier"
   ]
  },
  {
   "cell_type": "code",
   "execution_count": 11,
   "metadata": {
    "id": "MqM83CjuoBvS"
   },
   "outputs": [],
   "source": [
    "from sklearn.linear_model import SGDClassifier\n",
    "sgd = SGDClassifier(max_iter=100000, random_state=42)\n",
    "\n",
    "\n",
    "sgd.fit(x_train_tfidf, y_train)\n",
    "\n",
    "# Make predictions\n",
    "y_val_predict_sgd = sgd.predict(x_val_tfidf)\n",
    "y_test_predict_sgd = sgd.predict(x_test_tfidf)"
   ]
  },
  {
   "cell_type": "code",
   "execution_count": 12,
   "metadata": {
    "colab": {
     "base_uri": "https://localhost:8080/"
    },
    "id": "wPSnaUcvoZNI",
    "outputId": "f02f26a5-c3a7-40e3-c210-6570f765d637"
   },
   "outputs": [
    {
     "name": "stdout",
     "output_type": "stream",
     "text": [
      "Score Validation :  0.9\n",
      "Score Test :  0.91\n"
     ]
    }
   ],
   "source": [
    "from sklearn.metrics import f1_score\n",
    "\n",
    "print(\"Score Validation : \",np.round(f1_score(y_val_predict_sgd, y_val, average=\"weighted\"),2))\n",
    "print(\"Score Test : \",np.round(f1_score(y_test_predict_sgd, y_test, average=\"weighted\"),2))"
   ]
  },
  {
   "cell_type": "code",
   "execution_count": 18,
   "metadata": {
    "colab": {
     "base_uri": "https://localhost:8080/"
    },
    "id": "xAwSvlh7oyDV",
    "outputId": "8ac6f428-e03d-4c47-aae1-76d589133cd1"
   },
   "outputs": [
    {
     "name": "stdout",
     "output_type": "stream",
     "text": [
      "              precision    recall  f1-score   support\n",
      "\n",
      "           0       0.85      0.86      0.86       194\n",
      "           1       0.89      0.86      0.88       146\n",
      "           2       0.94      0.93      0.94       181\n",
      "           3       0.83      0.92      0.87       185\n",
      "           4       0.92      0.92      0.92       218\n",
      "           5       0.97      0.92      0.95       244\n",
      "           6       1.00      0.96      0.98       129\n",
      "           7       0.84      0.86      0.85       183\n",
      "\n",
      "    accuracy                           0.90      1480\n",
      "   macro avg       0.91      0.90      0.91      1480\n",
      "weighted avg       0.91      0.90      0.90      1480\n",
      "\n",
      "_________________________________________________\n",
      "\n",
      "              precision    recall  f1-score   support\n",
      "\n",
      "           0       0.79      0.89      0.84       194\n",
      "           1       0.90      0.86      0.88       162\n",
      "           2       0.95      0.93      0.94       202\n",
      "           3       0.88      0.90      0.89       220\n",
      "           4       0.93      0.95      0.94       239\n",
      "           5       0.95      0.92      0.93       264\n",
      "           6       0.98      0.99      0.98       137\n",
      "           7       0.93      0.86      0.89       226\n",
      "\n",
      "    accuracy                           0.91      1644\n",
      "   macro avg       0.91      0.91      0.91      1644\n",
      "weighted avg       0.91      0.91      0.91      1644\n",
      "\n"
     ]
    }
   ],
   "source": [
    "from sklearn.metrics import classification_report\n",
    "\n",
    "print(classification_report(y_val_predict_sgd, y_val))\n",
    "print(\"_________________________________________________\\n\")\n",
    "print(classification_report(y_test_predict_sgd, y_test))"
   ]
  },
  {
   "cell_type": "markdown",
   "metadata": {
    "id": "2t6B987TNhSG"
   },
   "source": [
    "## MLP"
   ]
  },
  {
   "cell_type": "markdown",
   "metadata": {
    "id": "YLIUAkgkNrMU"
   },
   "source": [
    "### Single Layer"
   ]
  },
  {
   "cell_type": "code",
   "execution_count": 10,
   "metadata": {},
   "outputs": [
    {
     "name": "stdout",
     "output_type": "stream",
     "text": [
      "\u001b[1m52/52\u001b[0m \u001b[32m━━━━━━━━━━━━━━━━━━━━\u001b[0m\u001b[37m\u001b[0m \u001b[1m7s\u001b[0m 108ms/step\n",
      "              precision    recall  f1-score   support\n",
      "\n",
      "           0       0.87      0.78      0.82       217\n",
      "           1       0.86      0.88      0.87       156\n",
      "           2       0.90      0.95      0.93       197\n",
      "           3       0.87      0.85      0.86       227\n",
      "           4       0.94      0.94      0.94       244\n",
      "           5       0.92      0.94      0.93       256\n",
      "           6       0.98      0.97      0.97       138\n",
      "           7       0.87      0.90      0.89       209\n",
      "\n",
      "    accuracy                           0.90      1644\n",
      "   macro avg       0.90      0.90      0.90      1644\n",
      "weighted avg       0.90      0.90      0.90      1644\n",
      "\n"
     ]
    }
   ],
   "source": [
    "from sklearn.metrics import classification_report\n",
    "\n",
    "# Evaluate the model\n",
    "y_pred = model.predict(x_test_tfidf)\n",
    "y_pred_class = tf.argmax(y_pred, axis=1)\n",
    "print(classification_report(y_test, y_pred_class))"
   ]
  },
  {
   "cell_type": "markdown",
   "metadata": {},
   "source": [
    "### Single Layer with 8 neurons"
   ]
  },
  {
   "cell_type": "code",
   "execution_count": 19,
   "metadata": {},
   "outputs": [
    {
     "name": "stderr",
     "output_type": "stream",
     "text": [
      "d:\\Quera_ML\\qenv\\lib\\site-packages\\keras\\src\\layers\\core\\dense.py:87: UserWarning: Do not pass an `input_shape`/`input_dim` argument to a layer. When using Sequential models, prefer using an `Input(shape)` object as the first layer in the model instead.\n",
      "  super().__init__(activity_regularizer=activity_regularizer, **kwargs)\n"
     ]
    },
    {
     "name": "stdout",
     "output_type": "stream",
     "text": [
      "Epoch 1/10\n",
      "\u001b[1m417/417\u001b[0m \u001b[32m━━━━━━━━━━━━━━━━━━━━\u001b[0m\u001b[37m\u001b[0m \u001b[1m76s\u001b[0m 139ms/step - accuracy: 0.3804 - loss: 1.8216 - val_accuracy: 0.7068 - val_loss: 0.9674\n",
      "Epoch 2/10\n",
      "\u001b[1m417/417\u001b[0m \u001b[32m━━━━━━━━━━━━━━━━━━━━\u001b[0m\u001b[37m\u001b[0m \u001b[1m73s\u001b[0m 114ms/step - accuracy: 0.7848 - loss: 0.7541 - val_accuracy: 0.8385 - val_loss: 0.5820\n",
      "Epoch 3/10\n",
      "\u001b[1m417/417\u001b[0m \u001b[32m━━━━━━━━━━━━━━━━━━━━\u001b[0m\u001b[37m\u001b[0m \u001b[1m109s\u001b[0m 175ms/step - accuracy: 0.9259 - loss: 0.3624 - val_accuracy: 0.8655 - val_loss: 0.4552\n",
      "Epoch 4/10\n",
      "\u001b[1m417/417\u001b[0m \u001b[32m━━━━━━━━━━━━━━━━━━━━\u001b[0m\u001b[37m\u001b[0m \u001b[1m94s\u001b[0m 199ms/step - accuracy: 0.9705 - loss: 0.1900 - val_accuracy: 0.8804 - val_loss: 0.4011\n",
      "Epoch 5/10\n",
      "\u001b[1m417/417\u001b[0m \u001b[32m━━━━━━━━━━━━━━━━━━━━\u001b[0m\u001b[37m\u001b[0m \u001b[1m97s\u001b[0m 92ms/step - accuracy: 0.9886 - loss: 0.1036 - val_accuracy: 0.8831 - val_loss: 0.3852\n",
      "Epoch 6/10\n",
      "\u001b[1m417/417\u001b[0m \u001b[32m━━━━━━━━━━━━━━━━━━━━\u001b[0m\u001b[37m\u001b[0m \u001b[1m37s\u001b[0m 82ms/step - accuracy: 0.9954 - loss: 0.0566 - val_accuracy: 0.8764 - val_loss: 0.3870\n",
      "Epoch 7/10\n",
      "\u001b[1m417/417\u001b[0m \u001b[32m━━━━━━━━━━━━━━━━━━━━\u001b[0m\u001b[37m\u001b[0m \u001b[1m44s\u001b[0m 88ms/step - accuracy: 0.9980 - loss: 0.0339 - val_accuracy: 0.8824 - val_loss: 0.3898\n",
      "Epoch 8/10\n",
      "\u001b[1m417/417\u001b[0m \u001b[32m━━━━━━━━━━━━━━━━━━━━\u001b[0m\u001b[37m\u001b[0m \u001b[1m48s\u001b[0m 114ms/step - accuracy: 0.9989 - loss: 0.0221 - val_accuracy: 0.8824 - val_loss: 0.3955\n",
      "Epoch 9/10\n",
      "\u001b[1m417/417\u001b[0m \u001b[32m━━━━━━━━━━━━━━━━━━━━\u001b[0m\u001b[37m\u001b[0m \u001b[1m79s\u001b[0m 179ms/step - accuracy: 0.9997 - loss: 0.0132 - val_accuracy: 0.8797 - val_loss: 0.4030\n",
      "Epoch 10/10\n",
      "\u001b[1m417/417\u001b[0m \u001b[32m━━━━━━━━━━━━━━━━━━━━\u001b[0m\u001b[37m\u001b[0m \u001b[1m94s\u001b[0m 207ms/step - accuracy: 0.9998 - loss: 0.0086 - val_accuracy: 0.8784 - val_loss: 0.4126\n"
     ]
    },
    {
     "data": {
      "text/plain": [
       "<keras.src.callbacks.history.History at 0x28d3b887b50>"
      ]
     },
     "execution_count": 19,
     "metadata": {},
     "output_type": "execute_result"
    }
   ],
   "source": [
    "input_dim = x_train_tfidf.shape[1]  # Number of TF-IDF features\n",
    "num_classes = 8\n",
    "\n",
    "# Define the model\n",
    "model = Sequential()\n",
    "model.add(Dense(8, activation=\"relu\", input_shape=(input_dim,)))\n",
    "model.add(Dense(9, activation=\"relu\"))\n",
    "model.add(Dense(num_classes, activation=\"softmax\"))\n",
    "\n",
    "# Compile the model\n",
    "model.compile(\n",
    "    loss=\"sparse_categorical_crossentropy\", optimizer=\"adam\", metrics=[\"accuracy\"]\n",
    ")\n",
    "\n",
    "# Train the model\n",
    "model.fit(\n",
    "    x_train_tfidf,\n",
    "    y_train,\n",
    "    epochs=10,\n",
    "    batch_size=32,\n",
    "    validation_data=(x_val_tfidf, y_val),\n",
    ")"
   ]
  },
  {
   "cell_type": "code",
   "execution_count": 20,
   "metadata": {},
   "outputs": [
    {
     "name": "stdout",
     "output_type": "stream",
     "text": [
      "\u001b[1m52/52\u001b[0m \u001b[32m━━━━━━━━━━━━━━━━━━━━\u001b[0m\u001b[37m\u001b[0m \u001b[1m4s\u001b[0m 66ms/step\n",
      "              precision    recall  f1-score   support\n",
      "\n",
      "           0       0.79      0.76      0.77       217\n",
      "           1       0.85      0.81      0.83       156\n",
      "           2       0.93      0.95      0.94       197\n",
      "           3       0.83      0.87      0.85       227\n",
      "           4       0.92      0.92      0.92       244\n",
      "           5       0.95      0.91      0.93       256\n",
      "           6       0.99      0.91      0.95       138\n",
      "           7       0.81      0.89      0.85       209\n",
      "\n",
      "    accuracy                           0.88      1644\n",
      "   macro avg       0.88      0.88      0.88      1644\n",
      "weighted avg       0.88      0.88      0.88      1644\n",
      "\n"
     ]
    }
   ],
   "source": [
    "# classification report\n",
    "\n",
    "# Evaluate the model\n",
    "y_pred = model.predict(x_test_tfidf)\n",
    "y_pred_class = tf.argmax(y_pred, axis=1)\n",
    "print(classification_report(y_test, y_pred_class))"
   ]
  }
 ],
 "metadata": {
  "colab": {
   "provenance": []
  },
  "kernelspec": {
   "display_name": "qenv",
   "language": "python",
   "name": "python3"
  },
  "language_info": {
   "codemirror_mode": {
    "name": "ipython",
    "version": 3
   },
   "file_extension": ".py",
   "mimetype": "text/x-python",
   "name": "python",
   "nbconvert_exporter": "python",
   "pygments_lexer": "ipython3",
   "version": "3.9.12"
  }
 },
 "nbformat": 4,
 "nbformat_minor": 1
}
